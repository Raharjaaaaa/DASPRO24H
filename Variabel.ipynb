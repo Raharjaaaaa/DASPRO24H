{
 "cells": [
  {
   "cell_type": "code",
   "execution_count": 5,
   "id": "a6047385",
   "metadata": {},
   "outputs": [
    {
     "name": "stdout",
     "output_type": "stream",
     "text": [
      "Nama : alok\n",
      "Alamat : Jl.Bermuda\n",
      "Umur : 28\n",
      "Nilai Pemograman : 85.7\n",
      "Status Menikah : True\n",
      "Propinsi  7413413\n"
     ]
    }
   ],
   "source": [
    "name = \"alok\"\n",
    "address,province = \"Jl.Bermuda\",\"7413413\"\n",
    "age = 28\n",
    "scorePython = 85.7\n",
    "isMarried = True\n",
    "\n",
    "print(\"Nama :\",name)\n",
    "print(\"Alamat :\",address)\n",
    "print(\"Umur :\",age)\n",
    "print(\"Nilai Pemograman :\",scorePython)\n",
    "print(\"Status Menikah :\",isMarried)\n",
    "print(\"Propinsi \",province)"
   ]
  },
  {
   "cell_type": "code",
   "execution_count": 6,
   "id": "ba3b7142",
   "metadata": {},
   "outputs": [
    {
     "name": "stdout",
     "output_type": "stream",
     "text": [
      "Tipe data <name> : <class 'str'>\n",
      "Tipe data <address> : <class 'str'>\n",
      "Tipe data <age> : <class 'int'>\n",
      "Tipe data <scorePython> : <class 'float'>\n",
      "Tipe data <isMarried> : <class 'bool'>\n",
      "Tipe data <province>  <class 'str'>\n"
     ]
    }
   ],
   "source": [
    "print(\"Tipe data <name> :\",type(name))\n",
    "print(\"Tipe data <address> :\",type(address))\n",
    "print(\"Tipe data <age> :\",type(age))\n",
    "print(\"Tipe data <scorePython> :\",type(scorePython))\n",
    "print(\"Tipe data <isMarried> :\",type(isMarried))\n",
    "print(\"Tipe data <province> \",type(province))\n"
   ]
  },
  {
   "cell_type": "code",
   "execution_count": 7,
   "id": "dbf74652",
   "metadata": {},
   "outputs": [
    {
     "name": "stdout",
     "output_type": "stream",
     "text": [
      "7413415-7413413.0-True\n"
     ]
    }
   ],
   "source": [
    "#Casting / Konversi Tipe Data\n",
    "#1. String ke (int,float,boolean)\n",
    "strToInt = int(province)\n",
    "strToFloat = float(province)\n",
    "strToBool = bool(province)\n",
    "print(strToInt + 2,strToFloat,strToBool, sep=\"-\")\n"
   ]
  },
  {
   "cell_type": "code",
   "execution_count": 9,
   "id": "6eb00b2f",
   "metadata": {},
   "outputs": [
    {
     "name": "stdout",
     "output_type": "stream",
     "text": [
      "28-28.0-True\n"
     ]
    }
   ],
   "source": [
    "#2. Int ke (str,float,boolean)\n",
    "intToStr = str(age)\n",
    "intToFloat = float(age)\n",
    "intToBool = bool(age)\n",
    "print(intToStr,intToFloat,intToBool, sep=\"-\")\n"
   ]
  },
  {
   "cell_type": "code",
   "execution_count": 10,
   "id": "c14bdf17",
   "metadata": {},
   "outputs": [
    {
     "name": "stdout",
     "output_type": "stream",
     "text": [
      "85.7-85-True\n"
     ]
    }
   ],
   "source": [
    "floatToStr = str(scorePython)\n",
    "floatToInt = int(scorePython)\n",
    "floatToBool = bool(scorePython)\n",
    "print(floatToStr,floatToInt,floatToBool, sep=\"-\")\n"
   ]
  },
  {
   "cell_type": "code",
   "execution_count": 12,
   "id": "4aef9f5b",
   "metadata": {},
   "outputs": [
    {
     "name": "stdout",
     "output_type": "stream",
     "text": [
      "Nilai desimal : 500\n",
      "Nilai biner : 10\n",
      "Nilai octal : 255\n",
      "Nilai hexa : 1091\n",
      "Nilai biner dari  500 : 0b111110100\n",
      "Nilai octal dari  500 : 0o764\n",
      "Nilai hexa dari  500 : 0x1f4\n"
     ]
    }
   ],
   "source": [
    "desimal = 500\n",
    "biner = 0b1010 #10\n",
    "octal = 0o377 #255\n",
    "hexa = 0x443 #1091\n",
    "\n",
    "print(\"Nilai desimal :\",desimal)\n",
    "print(\"Nilai biner :\",biner)\n",
    "print(\"Nilai octal :\",octal)\n",
    "print(\"Nilai hexa :\",hexa)\n",
    "\n",
    "print(\"Nilai biner dari \",desimal, \":\",bin(desimal))\n",
    "print(\"Nilai octal dari \",desimal, \":\",oct(desimal))\n",
    "print(\"Nilai hexa dari \",desimal, \":\",hex(desimal))\n"
   ]
  },
  {
   "cell_type": "code",
   "execution_count": 16,
   "id": "eb1f1766",
   "metadata": {},
   "outputs": [
    {
     "name": "stdout",
     "output_type": "stream",
     "text": [
      "P\n",
      "4\n",
      "E\n",
      "A\n",
      "K\n"
     ]
    }
   ],
   "source": [
    "city = \"PEAK\"\n",
    "length = len(city)\n",
    "print(city[0])\n",
    "print(length)\n",
    "print(city[length - 3])\n",
    "print(city[length - 2])\n",
    "print(city[length - 1])"
   ]
  },
  {
   "cell_type": "code",
   "execution_count": 30,
   "id": "fe94435e",
   "metadata": {},
   "outputs": [
    {
     "name": "stdout",
     "output_type": "stream",
     "text": [
      "['Peak', 'Mill', 'Pochinok', 'factory']\n",
      "Peak\n",
      "factory\n",
      "f\n",
      "y\n",
      "['Cape town', 'Mill', 'Pochinok', 'factory']\n",
      "('Ronaldo', 'Rooney', 'Tevez')\n",
      "Rooney\n",
      "{'name': 'Mia Khalifa', 'age': 32, 'address': {'street': 'Warungkiara', 'number': 10, 'province': 'Java'}, 'isMariied': True, 'hobbies': ['education biology', 'Streamer']}\n",
      "32\n",
      "{'street': 'Warungkiara', 'number': 10, 'province': 'Java'}\n",
      "education biology\n",
      "{'name': 'Mia Khalifa', 'age': 32, 'address': {'street': 'Warungkiara', 'number': 10, 'province': 'Java'}, 'isMariied': True, 'hobbies': ['education biology', 'Streamer']}\n",
      "java\n",
      "['education biology', 'Streamer']\n"
     ]
    }
   ],
   "source": [
    "#Tipe data collection\n",
    "cities = [\"Peak\",\"Mill\",\"Pochinok\",\"factory\"]\n",
    "length = len(cities)\n",
    "print(cities)\n",
    "print(cities[0])\n",
    "print(cities[length - 1])\n",
    "print(cities[length - 1][0])\n",
    "print(cities[length - 1][len(cities[length-1])-1])\n",
    "cities[0] = \"Cape town\"\n",
    "print(cities)\n",
    "\n",
    "names = (\"Ronaldo\",\"Rooney\",\"Tevez\")\n",
    "print(names)\n",
    "print(names[1])\n",
    "\n",
    "studentData = {\n",
    "    \"name\" : \"Mia Khalifa\",\n",
    "    \"age\" : 32,\n",
    "    \"address\" : {\n",
    "        \"street\" : \"Warungkiara\",\n",
    "        \"number\" : 10,\n",
    "        \"province\" : \"Java\"\n",
    "    },\n",
    "    \"isMariied\" : True,\n",
    "    \"hobbies\" : [\"education biology\",\"Streamer\"]\n",
    "}\n",
    "\n",
    "print(studentData)\n",
    "print(studentData[\"age\"])\n",
    "print(studentData[\"address\"])\n",
    "print(studentData[\"hobbies\"][0])\n",
    "\n",
    "studentList = [\n",
    "    {\n",
    "        \"name\" : \"Mia Khalifa\",\n",
    "        \"age\" : 32,\n",
    "        \"address\" : {\n",
    "            \"street\" : \"Warungkiara\",\n",
    "            \"number\" : 10,\n",
    "            \"province\" : \"Java\"\n",
    "        },\n",
    "        \"isMariied\" : True,\n",
    "        \"hobbies\" : [\"education biology\",\"Streamer\"]\n",
    "    },\n",
    "    {\n",
    "        \"name\" : \"Naruto\",\n",
    "        \"age\" : 19,\n",
    "        \"address\" : {\n",
    "            \"street\" : \"Konoha\",\n",
    "            \"number\" : 7,\n",
    "            \"province\" : \"java\"\n",
    "        },\n",
    "        \"isMariied\" : True,\n",
    "        \"hobbies\" : [\"Gammer\",\"Coocking\"]\n",
    "        }\n",
    "]\n",
    "\n",
    "print(studentList[0])\n",
    "print(studentList[1][\"address\"][\"province\"])\n",
    "print(studentList[0][\"hobbies\"])"
   ]
  },
  {
   "cell_type": "code",
   "execution_count": 35,
   "id": "f81b0980",
   "metadata": {},
   "outputs": [
    {
     "name": "stdout",
     "output_type": "stream",
     "text": [
      "{'name': 'Andi', 'age': '30', 'Status': True}\n",
      "{'name': 'Rudi', 'Adress': 'Bogor'}\n",
      "{'name': 'Tiger', 'Type': 'Mamalia'}\n",
      "{'name': 'crocodile', 'Type': 'Reptile'}\n"
     ]
    }
   ],
   "source": [
    "#konversi dictionary\n",
    "\n",
    "list_list = [[\"name\",\"Andi\"],[\"age\",\"30\"],[\"Status\",True]]\n",
    "dictListStudent = dict(list_list)\n",
    "print(dictListStudent)\n",
    "\n",
    "list_tuple = [(\"name\",\"Rudi\"),(\"Adress\",\"Bogor\")]\n",
    "dictTupleStudent = dict(list_tuple)\n",
    "print(dictTupleStudent)\n",
    "               \n",
    "tuple_list = ([\"name\",\"Tiger\"],[\"Type\",\"Mamalia\"])\n",
    "dictListAnimal = dict(tuple_list)\n",
    "print(dictListAnimal)\n",
    "\n",
    "tuple_tuple = ((\"name\",\"crocodile\"),(\"Type\",\"Reptile\"))\n",
    "dictTupleAnimal = dict(tuple_tuple)\n",
    "print(dictTupleAnimal)\n",
    "               "
   ]
  },
  {
   "cell_type": "code",
   "execution_count": null,
   "id": "b0248f97",
   "metadata": {},
   "outputs": [],
   "source": []
  }
 ],
 "metadata": {
  "kernelspec": {
   "display_name": "Python 3 (ipykernel)",
   "language": "python",
   "name": "python3"
  },
  "language_info": {
   "codemirror_mode": {
    "name": "ipython",
    "version": 3
   },
   "file_extension": ".py",
   "mimetype": "text/x-python",
   "name": "python",
   "nbconvert_exporter": "python",
   "pygments_lexer": "ipython3",
   "version": "3.9.12"
  }
 },
 "nbformat": 4,
 "nbformat_minor": 5
}
